{
 "cells": [
  {
   "cell_type": "code",
   "execution_count": 20,
   "metadata": {},
   "outputs": [],
   "source": [
    "# Dependencies\n",
    "import json\n",
    "import requests\n",
    "import time\n",
    "import pandas as pd\n",
    "import numpy as np\n",
    "import matplotlib.pyplot as plt\n",
    "from pprint import pprint\n",
    "# Import API key\n",
    "from config import api_key\n",
    "# Incorporated citipy to determine city based on latitude and longitude\n",
    "from citipy import citipy"
   ]
  },
  {
   "cell_type": "code",
   "execution_count": 13,
   "metadata": {},
   "outputs": [
    {
     "data": {
      "text/plain": [
       "'http://api.openweathermap.org/data/2.5/weather?appid=6e0701fcf86bab2eb58937778e72063e&id=2172796'"
      ]
     },
     "execution_count": 13,
     "metadata": {},
     "output_type": "execute_result"
    }
   ],
   "source": [
    "city_id = '2172796'\n",
    "base_url = 'http://api.openweathermap.org/data/2.5/weather?'\n",
    "# = https://samples.openweathermap.org/data/2.5/weather?id=2172796&appid=api_key\n",
    "url = f\"{base_url}appid={api_key}&id={city_id}\"\n",
    "url\n"
   ]
  },
  {
   "cell_type": "code",
   "execution_count": 26,
   "metadata": {},
   "outputs": [
    {
     "name": "stdout",
     "output_type": "stream",
     "text": [
      "{'base': 'stations',\n",
      " 'clouds': {'all': 81},\n",
      " 'cod': 200,\n",
      " 'coord': {'lat': 51.51, 'lon': -0.13},\n",
      " 'dt': 1563514266,\n",
      " 'id': 2643743,\n",
      " 'main': {'humidity': 72,\n",
      "          'pressure': 1012,\n",
      "          'temp': 54.95,\n",
      "          'temp_max': 59,\n",
      "          'temp_min': 51.8},\n",
      " 'name': 'London',\n",
      " 'sys': {'country': 'GB',\n",
      "         'id': 1414,\n",
      "         'message': 0.0113,\n",
      "         'sunrise': 1563509115,\n",
      "         'sunset': 1563566876,\n",
      "         'type': 1},\n",
      " 'timezone': 3600,\n",
      " 'visibility': 10000,\n",
      " 'weather': [{'description': 'broken clouds',\n",
      "              'icon': '04d',\n",
      "              'id': 803,\n",
      "              'main': 'Clouds'}],\n",
      " 'wind': {'deg': 220, 'speed': 5.82}}\n"
     ]
    }
   ],
   "source": [
    "#base url\n",
    "query_url=\"http://api.openweathermap.org/data/2.5/weather?units=Imperial&APPID=\" + api_key + \"&q=\"\n",
    "url = 'http://api.openweathermap.org/data/2.5/history/city?'\n",
    "    #q=London&appid={YOUR API KEY}\n",
    "#url = \"http://api.openweathermap.org/data/2.5/weather?\"\n",
    "#units = \"imperial\"\n",
    "\n",
    "#query_url = f\"{url}appid={api_key}&q=\"\n",
    "\n",
    "response = requests.get(query_url + \"London\").json()\n",
    "pprint(response)"
   ]
  },
  {
   "cell_type": "code",
   "execution_count": 8,
   "metadata": {},
   "outputs": [],
   "source": [
    "Latitude = response[\"coord\"][\"lat\"]\n",
    "Temperature = response[\"main\"][\"temp\"]\n",
    "Humidity = response[\"main\"][\"humidity\"]\n",
    "Cloudiness = response[\"clouds\"][\"all\"]\n",
    "WindSpeed = response[\"wind\"][\"speed\"]"
   ]
  },
  {
   "cell_type": "code",
   "execution_count": 9,
   "metadata": {},
   "outputs": [
    {
     "name": "stdout",
     "output_type": "stream",
     "text": [
      "29.76\n",
      "81.95\n",
      "83\n",
      "1\n",
      "3.36\n"
     ]
    }
   ],
   "source": [
    "print(Latitude)\n",
    "print(Temperature)\n",
    "print(Humidity)\n",
    "print(Cloudiness)\n",
    "print(WindSpeed)"
   ]
  },
  {
   "cell_type": "code",
   "execution_count": null,
   "metadata": {},
   "outputs": [],
   "source": []
  }
 ],
 "metadata": {
  "kernelspec": {
   "display_name": "Python 3",
   "language": "python",
   "name": "python3"
  },
  "language_info": {
   "codemirror_mode": {
    "name": "ipython",
    "version": 3
   },
   "file_extension": ".py",
   "mimetype": "text/x-python",
   "name": "python",
   "nbconvert_exporter": "python",
   "pygments_lexer": "ipython3",
   "version": "3.7.3"
  }
 },
 "nbformat": 4,
 "nbformat_minor": 2
}
