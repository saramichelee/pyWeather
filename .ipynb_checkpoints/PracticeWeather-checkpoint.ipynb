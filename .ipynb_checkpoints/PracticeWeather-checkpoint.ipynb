{
 "cells": [
  {
   "cell_type": "code",
   "execution_count": 1,
   "metadata": {},
   "outputs": [],
   "source": [
    "# Dependencies\n",
    "import json\n",
    "import requests\n",
    "import time\n",
    "import pandas as pd\n",
    "import numpy as np\n",
    "import matplotlib.pyplot as plt\n",
    "from pprint import pprint\n",
    "# Import API key\n",
    "from config import api_key\n",
    "# Incorporated citipy to determine city based on latitude and longitude\n",
    "from citipy import citipy"
   ]
  },
  {
   "cell_type": "code",
   "execution_count": 4,
   "metadata": {},
   "outputs": [
    {
     "name": "stdout",
     "output_type": "stream",
     "text": [
      "{'base': 'stations',\n",
      " 'clouds': {'all': 1},\n",
      " 'cod': 200,\n",
      " 'coord': {'lat': 29.76, 'lon': -95.37},\n",
      " 'dt': 1563337679,\n",
      " 'id': 4699066,\n",
      " 'main': {'humidity': 83,\n",
      "          'pressure': 1017,\n",
      "          'temp': 81.95,\n",
      "          'temp_max': 84,\n",
      "          'temp_min': 80.01},\n",
      " 'name': 'Houston',\n",
      " 'sys': {'country': 'US',\n",
      "         'id': 4850,\n",
      "         'message': 0.0094,\n",
      "         'sunrise': 1563276683,\n",
      "         'sunset': 1563326595,\n",
      "         'type': 1},\n",
      " 'timezone': -18000,\n",
      " 'visibility': 16093,\n",
      " 'weather': [{'description': 'clear sky',\n",
      "              'icon': '01n',\n",
      "              'id': 800,\n",
      "              'main': 'Clear'}],\n",
      " 'wind': {'speed': 3.36}}\n"
     ]
    }
   ],
   "source": [
    "#base url\n",
    "url = \"http://api.openweathermap.org/data/2.5/weather?\"\n",
    "units = \"imperial\"\n",
    "\n",
    "query_url = f\"{url}appid={api_key}&units={units}&q=\"\n",
    "\n",
    "response = requests.get(query_url + \"Houston\").json()\n",
    "pprint(response)"
   ]
  },
  {
   "cell_type": "code",
   "execution_count": 8,
   "metadata": {},
   "outputs": [],
   "source": [
    "Latitude = response[\"coord\"][\"lat\"]\n",
    "Temperature = response[\"main\"][\"temp\"]\n",
    "Humidity = response[\"main\"][\"humidity\"]\n",
    "Cloudiness = response[\"clouds\"][\"all\"]\n",
    "WindSpeed = response[\"wind\"][\"speed\"]"
   ]
  },
  {
   "cell_type": "code",
   "execution_count": 9,
   "metadata": {},
   "outputs": [
    {
     "name": "stdout",
     "output_type": "stream",
     "text": [
      "29.76\n",
      "81.95\n",
      "83\n",
      "1\n",
      "3.36\n"
     ]
    }
   ],
   "source": [
    "print(Latitude)\n",
    "print(Temperature)\n",
    "print(Humidity)\n",
    "print(Cloudiness)\n",
    "print(WindSpeed)"
   ]
  },
  {
   "cell_type": "code",
   "execution_count": null,
   "metadata": {},
   "outputs": [],
   "source": []
  }
 ],
 "metadata": {
  "kernelspec": {
   "display_name": "Python 3",
   "language": "python",
   "name": "python3"
  },
  "language_info": {
   "codemirror_mode": {
    "name": "ipython",
    "version": 3
   },
   "file_extension": ".py",
   "mimetype": "text/x-python",
   "name": "python",
   "nbconvert_exporter": "python",
   "pygments_lexer": "ipython3",
   "version": "3.7.3"
  }
 },
 "nbformat": 4,
 "nbformat_minor": 2
}
